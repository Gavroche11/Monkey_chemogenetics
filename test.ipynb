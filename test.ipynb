{
 "cells": [
  {
   "cell_type": "code",
   "execution_count": 1,
   "id": "64029fd3",
   "metadata": {},
   "outputs": [],
   "source": [
    "import numpy as np\n",
    "import pandas as pd\n",
    "import scipy\n",
    "import scipy.stats\n",
    "\n",
    "import statsmodels.api as sm\n",
    "from statsmodels.formula.api import ols\n",
    "\n",
    "from statsmodels.stats.anova import AnovaRM\n",
    "\n",
    "from helper import *"
   ]
  },
  {
   "cell_type": "markdown",
   "id": "25d66d9a",
   "metadata": {},
   "source": [
    "# Motivated Behaviors"
   ]
  },
  {
   "cell_type": "markdown",
   "id": "e3b7c6ae",
   "metadata": {},
   "source": [
    "## 1. Manual Analysis"
   ]
  },
  {
   "cell_type": "markdown",
   "id": "7c0dda4d",
   "metadata": {},
   "source": [
    "We measured three behaviors (\"Approach hands to food (n),\" \"Bring the food to the mouth (n),\" and \"Drop the food (n)\") and \"Food intake (g)\" in the manual analysis. One can use the sample in `Examples/Palatable_Manual.csv` to reproduce the same results as below. First, read the csv file as follows:"
   ]
  },
  {
   "cell_type": "code",
   "execution_count": 16,
   "id": "b9c3730d",
   "metadata": {},
   "outputs": [
    {
     "data": {
      "text/html": [
       "<div>\n",
       "<style scoped>\n",
       "    .dataframe tbody tr th:only-of-type {\n",
       "        vertical-align: middle;\n",
       "    }\n",
       "\n",
       "    .dataframe tbody tr th {\n",
       "        vertical-align: top;\n",
       "    }\n",
       "\n",
       "    .dataframe thead tr th {\n",
       "        text-align: left;\n",
       "    }\n",
       "</style>\n",
       "<table border=\"1\" class=\"dataframe\">\n",
       "  <thead>\n",
       "    <tr>\n",
       "      <th></th>\n",
       "      <th colspan=\"2\" halign=\"left\">A</th>\n",
       "      <th colspan=\"2\" halign=\"left\">B</th>\n",
       "      <th colspan=\"2\" halign=\"left\">C</th>\n",
       "    </tr>\n",
       "    <tr>\n",
       "      <th></th>\n",
       "      <th>CNO</th>\n",
       "      <th>Vehicle</th>\n",
       "      <th>CNO</th>\n",
       "      <th>Vehicle</th>\n",
       "      <th>CNO</th>\n",
       "      <th>Vehicle</th>\n",
       "    </tr>\n",
       "  </thead>\n",
       "  <tbody>\n",
       "    <tr>\n",
       "      <th>Approach hands to food (n)</th>\n",
       "      <td>30</td>\n",
       "      <td>21</td>\n",
       "      <td>37</td>\n",
       "      <td>27</td>\n",
       "      <td>80</td>\n",
       "      <td>33</td>\n",
       "    </tr>\n",
       "    <tr>\n",
       "      <th>Bring the food to the mouth (n)</th>\n",
       "      <td>588</td>\n",
       "      <td>340</td>\n",
       "      <td>405</td>\n",
       "      <td>236</td>\n",
       "      <td>303</td>\n",
       "      <td>217</td>\n",
       "    </tr>\n",
       "    <tr>\n",
       "      <th>Drop the food (n)</th>\n",
       "      <td>3</td>\n",
       "      <td>53</td>\n",
       "      <td>20</td>\n",
       "      <td>33</td>\n",
       "      <td>15</td>\n",
       "      <td>53</td>\n",
       "    </tr>\n",
       "    <tr>\n",
       "      <th>Food intake (g)</th>\n",
       "      <td>214</td>\n",
       "      <td>76</td>\n",
       "      <td>162</td>\n",
       "      <td>140</td>\n",
       "      <td>622</td>\n",
       "      <td>266</td>\n",
       "    </tr>\n",
       "  </tbody>\n",
       "</table>\n",
       "</div>"
      ],
      "text/plain": [
       "                                   A            B            C        \n",
       "                                 CNO Vehicle  CNO Vehicle  CNO Vehicle\n",
       "Approach hands to food (n)        30      21   37      27   80      33\n",
       "Bring the food to the mouth (n)  588     340  405     236  303     217\n",
       "Drop the food (n)                  3      53   20      33   15      53\n",
       "Food intake (g)                  214      76  162     140  622     266"
      ]
     },
     "execution_count": 16,
     "metadata": {},
     "output_type": "execute_result"
    }
   ],
   "source": [
    "df = pd.read_csv('Examples/Palatable_Manual.csv', index_col=0, header=[0, 1])\n",
    "df"
   ]
  },
  {
   "cell_type": "markdown",
   "id": "09539a32",
   "metadata": {},
   "source": [
    "Comparing CNO-injected and control subjects for each index by the paired t-test, we have:"
   ]
  },
  {
   "cell_type": "code",
   "execution_count": 17,
   "id": "8a3a82b0",
   "metadata": {},
   "outputs": [
    {
     "name": "stdout",
     "output_type": "stream",
     "text": [
      "                              Index     p-value (abs. value)\n",
      "         Approach hands to food (n)                    0.221\n",
      "    Bring the food to the mouth (n)                    0.070\n",
      "                  Drop the food (n)                    0.091\n",
      "                    Food intake (g)                    0.221\n"
     ]
    }
   ],
   "source": [
    "print('{:>35}{:>25}'.format('Index', 'p-value (abs. value)'))\n",
    "\n",
    "for idx in df.index:\n",
    "    data = df.loc[idx].values.reshape(3, 2)\n",
    "    p = scipy.stats.ttest_rel(data[:, 0], data[:, 1]).pvalue\n",
    "    print('{:>35}{:>25.3f}'.format(idx, p))"
   ]
  },
  {
   "cell_type": "markdown",
   "id": "46a2c13c",
   "metadata": {},
   "source": [
    "We also divided the values of CNO-injected subjects by the corresponding values of control subjects, and compared the rates of changes with 0, so that we can observe the rate of change caused by CNO injection."
   ]
  },
  {
   "cell_type": "code",
   "execution_count": 18,
   "id": "5fac0529",
   "metadata": {},
   "outputs": [
    {
     "name": "stdout",
     "output_type": "stream",
     "text": [
      "                              Index p-value (rate of change)\n",
      "         Approach hands to food (n)                    0.163\n",
      "    Bring the food to the mouth (n)                    0.030\n",
      "                  Drop the food (n)                    0.050\n",
      "                    Food intake (g)                    0.155\n"
     ]
    }
   ],
   "source": [
    "print('{:>35}{:>25}'.format('Index', 'p-value (rate of change)'))\n",
    "\n",
    "for idx in df.index:\n",
    "    data = df.loc[idx].values.reshape(3, 2)\n",
    "    p = scipy.stats.ttest_1samp(data[:, 0] / data[:, 1]-1, popmean=0).pvalue\n",
    "    print('{:>35}{:>25.3f}'.format(idx, p))"
   ]
  },
  {
   "cell_type": "markdown",
   "id": "07d98105",
   "metadata": {},
   "source": [
    "## 2. Deep Learning-based analysis"
   ]
  },
  {
   "cell_type": "markdown",
   "id": "034c63a4",
   "metadata": {},
   "source": [
    "We measured three behaviors (\"Tray Approach (n),\" \"Bout (n),\" and \"Drop the food (n)\") and \"Duration in Food Zone (s)\" in the deep learning-based analysis. One can use the samples in `Examples/Palatable_DLC_MonkeyX_Y.csv (X = A / B / C, Y = CNO / Vehicle)` to reproduce the same results as below (those are raw outputs from DeepLabCut). We computed some parameters for each video, such as `Examples/Palatable_DLC_params.csv`.\n",
    "\n",
    "* `fz x` is the x-coordinate of the food zone.\n",
    "* `trayx` and `trayy` are the x- and y-coordinate of the tray, respectively.\n",
    "* `tray-hand dist` is the threshold distance between the tray and hand, which is a criterion for \"Tray Approach.\"\n",
    "* `tray-mouth dist` is the threshold distance between the tray and mouth, which is a criterion for \"Bout.\""
   ]
  },
  {
   "cell_type": "code",
   "execution_count": 5,
   "id": "ccca5425",
   "metadata": {},
   "outputs": [
    {
     "data": {
      "text/html": [
       "<div>\n",
       "<style scoped>\n",
       "    .dataframe tbody tr th:only-of-type {\n",
       "        vertical-align: middle;\n",
       "    }\n",
       "\n",
       "    .dataframe tbody tr th {\n",
       "        vertical-align: top;\n",
       "    }\n",
       "\n",
       "    .dataframe thead th {\n",
       "        text-align: right;\n",
       "    }\n",
       "</style>\n",
       "<table border=\"1\" class=\"dataframe\">\n",
       "  <thead>\n",
       "    <tr style=\"text-align: right;\">\n",
       "      <th></th>\n",
       "      <th></th>\n",
       "      <th>fz x</th>\n",
       "      <th>trayx</th>\n",
       "      <th>trayy</th>\n",
       "      <th>tray-hand dist</th>\n",
       "      <th>tray-mouth dist</th>\n",
       "    </tr>\n",
       "  </thead>\n",
       "  <tbody>\n",
       "    <tr>\n",
       "      <th rowspan=\"2\" valign=\"top\">A</th>\n",
       "      <th>CNO</th>\n",
       "      <td>847</td>\n",
       "      <td>1137</td>\n",
       "      <td>459</td>\n",
       "      <td>97.693398</td>\n",
       "      <td>22.203603</td>\n",
       "    </tr>\n",
       "    <tr>\n",
       "      <th>Vehicle</th>\n",
       "      <td>843</td>\n",
       "      <td>1142</td>\n",
       "      <td>455</td>\n",
       "      <td>106.404887</td>\n",
       "      <td>20.248457</td>\n",
       "    </tr>\n",
       "    <tr>\n",
       "      <th rowspan=\"2\" valign=\"top\">B</th>\n",
       "      <th>CNO</th>\n",
       "      <td>809</td>\n",
       "      <td>1133</td>\n",
       "      <td>450</td>\n",
       "      <td>120.904921</td>\n",
       "      <td>21.189620</td>\n",
       "    </tr>\n",
       "    <tr>\n",
       "      <th>Vehicle</th>\n",
       "      <td>866</td>\n",
       "      <td>1147</td>\n",
       "      <td>454</td>\n",
       "      <td>94.540996</td>\n",
       "      <td>21.587033</td>\n",
       "    </tr>\n",
       "    <tr>\n",
       "      <th rowspan=\"2\" valign=\"top\">C</th>\n",
       "      <th>CNO</th>\n",
       "      <td>906</td>\n",
       "      <td>1168</td>\n",
       "      <td>457</td>\n",
       "      <td>94.366308</td>\n",
       "      <td>22.472205</td>\n",
       "    </tr>\n",
       "    <tr>\n",
       "      <th>Vehicle</th>\n",
       "      <td>845</td>\n",
       "      <td>1139</td>\n",
       "      <td>455</td>\n",
       "      <td>89.157165</td>\n",
       "      <td>17.492856</td>\n",
       "    </tr>\n",
       "  </tbody>\n",
       "</table>\n",
       "</div>"
      ],
      "text/plain": [
       "           fz x  trayx  trayy  tray-hand dist  tray-mouth dist\n",
       "A CNO       847   1137    459       97.693398        22.203603\n",
       "  Vehicle   843   1142    455      106.404887        20.248457\n",
       "B CNO       809   1133    450      120.904921        21.189620\n",
       "  Vehicle   866   1147    454       94.540996        21.587033\n",
       "C CNO       906   1168    457       94.366308        22.472205\n",
       "  Vehicle   845   1139    455       89.157165        17.492856"
      ]
     },
     "execution_count": 5,
     "metadata": {},
     "output_type": "execute_result"
    }
   ],
   "source": [
    "params_df = pd.read_csv('Examples/Palatable_DLC_params.csv', index_col=[0, 1], header=0)\n",
    "params_df"
   ]
  },
  {
   "cell_type": "markdown",
   "id": "4fd5439d",
   "metadata": {},
   "source": [
    "Based on those parameters, we computed each index for each video. Refer to `helper.py` for the detailed description of each function."
   ]
  },
  {
   "cell_type": "code",
   "execution_count": 14,
   "id": "bf612750",
   "metadata": {},
   "outputs": [
    {
     "data": {
      "text/plain": [
       "array([[[ 55.        ,  31.        , 866.83333333],\n",
       "        [ 50.        ,  20.        , 217.58333333]],\n",
       "\n",
       "       [[121.        ,  74.        , 828.54166667],\n",
       "        [ 80.        ,  44.        , 204.        ]],\n",
       "\n",
       "       [[268.        , 112.        , 520.45833333],\n",
       "        [ 66.        ,  18.        , 309.375     ]]])"
      ]
     },
     "execution_count": 14,
     "metadata": {},
     "output_type": "execute_result"
    }
   ],
   "source": [
    "cases = [(i, j) for i in ['A', 'B', 'C'] for j in ['CNO', 'Vehicle']]\n",
    "filenames = ['Examples/Palatable_DLC_Monkey{}_{}.csv'.format(i, j) for (i, j) in cases]\n",
    "\n",
    "values = np.array([])\n",
    "\n",
    "for case, filepath in zip(cases, filenames):\n",
    "    # Approach\n",
    "    params = tuple(params_df.loc[case, ['trayx', 'trayy', 'tray-hand dist']])\n",
    "    coords, _, _ = return_approach(filepath, params, ll_crit=0.9, absolute=True, interval=0.2, FPS=24.0)\n",
    "    appr = coords['Approach'].sum()\n",
    "\n",
    "    # Bout\n",
    "    params = tuple(params_df.loc[case, ['trayx', 'trayy', 'tray-mouth dist', 'tray-hand dist']])\n",
    "    coords, _, _ = return_bout1(filepath, params, latency1=3.0, latency2=1.0, ll_crit=0.9, interval=0.2, FPS=24.0)\n",
    "    bout = coords['Bout'].sum()\n",
    "\n",
    "    # In Food Zone\n",
    "    fz_x = params_df.loc[case, 'fz x']\n",
    "    coords, _, _ = return_infz(filepath, fz_x, ll_crit=0.9, absolute=True)\n",
    "    infz = coords['In'].sum() / 24\n",
    "\n",
    "\n",
    "    values = np.concatenate((values, np.array([appr, bout, infz])))\n",
    "\n",
    "values = values.reshape(3, 2, 3)\n",
    "\n",
    "values"
   ]
  },
  {
   "cell_type": "markdown",
   "id": "ecb7be4c",
   "metadata": {},
   "source": [
    "Then we compared (1) CNO-injected and control subjects by paired t-test and (2) the rates of changes with 0 by one-sample t-test, as above."
   ]
  },
  {
   "cell_type": "code",
   "execution_count": 15,
   "id": "aa8bbf29",
   "metadata": {},
   "outputs": [
    {
     "name": "stdout",
     "output_type": "stream",
     "text": [
      "                         Index     p-value (abs. value) p-value (rate of change)\n",
      "             Tray Approach (n)                    0.306                    0.317\n",
      "                      Bout (n)                    0.215                    0.296\n",
      "     Duration in Food Zone (s)                    0.073                    0.103\n"
     ]
    }
   ],
   "source": [
    "indices = [\"Tray Approach (n)\", \"Bout (n)\", \"Duration in Food Zone (s)\"]\n",
    "\n",
    "print('{:>30}{:>25}{:>25}'.format('Index', 'p-value (abs. value)', 'p-value (rate of change)'))\n",
    "\n",
    "for i, idx in enumerate(indices):\n",
    "    data = values[:, :, i]\n",
    "    p1 = scipy.stats.ttest_rel(data[:, 0], data[:, 1]).pvalue\n",
    "    p2 = scipy.stats.ttest_1samp(data[:, 0] / data[:, 1] - 1, popmean=0).pvalue\n",
    "    print('{:>30}{:>25.3f}{:>25.3f}'.format(idx, p1, p2))"
   ]
  },
  {
   "cell_type": "markdown",
   "id": "79f68b7e",
   "metadata": {},
   "source": [
    "## 3. Food Motivation During Immobility Sessions\n"
   ]
  },
  {
   "cell_type": "markdown",
   "id": "388676b5",
   "metadata": {},
   "source": [
    "Again, one can use the samples in `Examples/Palatable_DLC_MonkeyX_Y.csv (X = A / B / C, Y = CNO / Vehicle)` and `Examples/Palatable_DLC_params.csv` to reproduce the same results as below."
   ]
  },
  {
   "cell_type": "markdown",
   "id": "e6dbe75e",
   "metadata": {},
   "source": [
    "### 3.1. Average Speed Inside Food Zone"
   ]
  },
  {
   "cell_type": "markdown",
   "id": "9dddc525",
   "metadata": {},
   "source": [
    "We computed the average speed of the body center of the subject while it is located in the food zone. Then we compared (1) CNO-injected and control subjects by paired t-test and (2) the rates of changes with zero by one-sample t-test, as above."
   ]
  },
  {
   "cell_type": "code",
   "execution_count": 31,
   "id": "a101e057",
   "metadata": {},
   "outputs": [
    {
     "data": {
      "text/html": [
       "<div>\n",
       "<style scoped>\n",
       "    .dataframe tbody tr th:only-of-type {\n",
       "        vertical-align: middle;\n",
       "    }\n",
       "\n",
       "    .dataframe tbody tr th {\n",
       "        vertical-align: top;\n",
       "    }\n",
       "\n",
       "    .dataframe thead th {\n",
       "        text-align: right;\n",
       "    }\n",
       "</style>\n",
       "<table border=\"1\" class=\"dataframe\">\n",
       "  <thead>\n",
       "    <tr style=\"text-align: right;\">\n",
       "      <th></th>\n",
       "      <th>p-value (abs. value)</th>\n",
       "      <th>p-value (rate of change)</th>\n",
       "    </tr>\n",
       "  </thead>\n",
       "  <tbody>\n",
       "    <tr>\n",
       "      <th>Average Speed Inside Food Zone (px/s)</th>\n",
       "      <td>0.119913</td>\n",
       "      <td>0.006361</td>\n",
       "    </tr>\n",
       "  </tbody>\n",
       "</table>\n",
       "</div>"
      ],
      "text/plain": [
       "                                       p-value (abs. value)  \\\n",
       "Average Speed Inside Food Zone (px/s)              0.119913   \n",
       "\n",
       "                                       p-value (rate of change)  \n",
       "Average Speed Inside Food Zone (px/s)                  0.006361  "
      ]
     },
     "execution_count": 31,
     "metadata": {},
     "output_type": "execute_result"
    }
   ],
   "source": [
    "params_df = pd.read_csv('Examples/Palatable_DLC_params.csv', index_col=[0, 1], header=0)\n",
    "\n",
    "cases = [(i, j) for i in ['A', 'B', 'C'] for j in ['CNO', 'Vehicle']]\n",
    "filenames = ['Examples/Palatable_DLC_Monkey{}_{}.csv'.format(i, j) for (i, j) in cases]\n",
    "\n",
    "values = []\n",
    "\n",
    "for case, filepath in zip(cases, filenames):\n",
    "\n",
    "    fz_x = params_df.loc[case, 'fz x']\n",
    "    coords, _, _ = return_infz(filepath, fz_x, ll_crit=0.9, absolute=True)\n",
    "    bcx = coords[('Body_center', 'x')].values\n",
    "    bc = coords[('Body_center')].values\n",
    "    dx = bc[1:] - bc[:-1]\n",
    "    v = dx[(bcx[1:] > fz_x) & (bcx[:-1] > fz_x)]\n",
    "    vbar = np.linalg.norm(v, axis=1).sum() * 24 / len(v)\n",
    "\n",
    "\n",
    "    values.append(vbar)\n",
    "\n",
    "values = np.array(values).reshape(3, 2)\n",
    "\n",
    "data = values\n",
    "\n",
    "p1 = scipy.stats.ttest_rel(data[:, 0], data[:, 1]).pvalue\n",
    "p2 = scipy.stats.ttest_1samp(data[:, 0] / data[:, 1]-1, popmean=0).pvalue\n",
    "\n",
    "pd.DataFrame(index=['Average Speed Inside Food Zone (px/s)'], data=[[p1, p2]], columns=['p-value (abs. value)', 'p-value (rate of change)'])"
   ]
  },
  {
   "cell_type": "markdown",
   "id": "e7716505",
   "metadata": {},
   "source": [
    "### 3.2. Total Duration of Immobility Sessions"
   ]
  },
  {
   "cell_type": "code",
   "execution_count": 32,
   "id": "0281d476",
   "metadata": {},
   "outputs": [
    {
     "data": {
      "text/html": [
       "<div>\n",
       "<style scoped>\n",
       "    .dataframe tbody tr th:only-of-type {\n",
       "        vertical-align: middle;\n",
       "    }\n",
       "\n",
       "    .dataframe tbody tr th {\n",
       "        vertical-align: top;\n",
       "    }\n",
       "\n",
       "    .dataframe thead th {\n",
       "        text-align: right;\n",
       "    }\n",
       "</style>\n",
       "<table border=\"1\" class=\"dataframe\">\n",
       "  <thead>\n",
       "    <tr style=\"text-align: right;\">\n",
       "      <th></th>\n",
       "      <th>p-value (abs. value)</th>\n",
       "      <th>p-value (rate of change)</th>\n",
       "    </tr>\n",
       "  </thead>\n",
       "  <tbody>\n",
       "    <tr>\n",
       "      <th>Total Duration of Immobility Sessions (s)</th>\n",
       "      <td>0.078078</td>\n",
       "      <td>0.023594</td>\n",
       "    </tr>\n",
       "  </tbody>\n",
       "</table>\n",
       "</div>"
      ],
      "text/plain": [
       "                                           p-value (abs. value)  \\\n",
       "Total Duration of Immobility Sessions (s)              0.078078   \n",
       "\n",
       "                                           p-value (rate of change)  \n",
       "Total Duration of Immobility Sessions (s)                  0.023594  "
      ]
     },
     "execution_count": 32,
     "metadata": {},
     "output_type": "execute_result"
    }
   ],
   "source": [
    "crit = 0.25\n",
    "filter = 360\n",
    "latency = 36\n",
    "dur = 36\n",
    "\n",
    "lowspeed_len = []\n",
    "\n",
    "for (case, filepath) in zip(cases, filenames):\n",
    "    df = pd.read_csv(filepath, index_col=0, header=[1, 2], skiprows=0)\n",
    "    lowspeed_sessions = get_lowspeed(df, crit, filter, latency, dur)\n",
    "    lowspeed_len.append((lowspeed_sessions[:, 1] - lowspeed_sessions[:, 0]).sum())\n",
    "\n",
    "lowspeed_len = np.array(lowspeed_len)\n",
    "data = lowspeed_len.reshape(-1, 2) / 24\n",
    "\n",
    "p1 = scipy.stats.ttest_rel(data[:, 0], data[:, 1]).pvalue\n",
    "p2 = scipy.stats.ttest_1samp(data[:, 0] / data[:, 1]-1, popmean=0).pvalue\n",
    "\n",
    "pd.DataFrame(index=['Total Duration of Immobility Sessions (s)'], data=[[p1, p2]], columns=['p-value (abs. value)', 'p-value (rate of change)'])\n"
   ]
  },
  {
   "cell_type": "markdown",
   "id": "3572ba72",
   "metadata": {},
   "source": [
    "### 3.3. Behaviors in Immobility Sessions\n",
    "\n",
    "The data for \"Approach hands to food\" (AH) are provided in `Examples/Palatable_Log_Example.csv`."
   ]
  },
  {
   "cell_type": "markdown",
   "id": "00481c23",
   "metadata": {},
   "source": [
    "- Number of AH in immobility sessions (IS)\n",
    "- Duration of IS containing AH"
   ]
  },
  {
   "cell_type": "code",
   "execution_count": 39,
   "id": "39aca782",
   "metadata": {},
   "outputs": [
    {
     "data": {
      "text/html": [
       "<div>\n",
       "<style scoped>\n",
       "    .dataframe tbody tr th:only-of-type {\n",
       "        vertical-align: middle;\n",
       "    }\n",
       "\n",
       "    .dataframe tbody tr th {\n",
       "        vertical-align: top;\n",
       "    }\n",
       "\n",
       "    .dataframe thead th {\n",
       "        text-align: right;\n",
       "    }\n",
       "</style>\n",
       "<table border=\"1\" class=\"dataframe\">\n",
       "  <thead>\n",
       "    <tr style=\"text-align: right;\">\n",
       "      <th></th>\n",
       "      <th>p-value (abs. value)</th>\n",
       "      <th>p-value (rate of change)</th>\n",
       "    </tr>\n",
       "  </thead>\n",
       "  <tbody>\n",
       "    <tr>\n",
       "      <th>Number of AH in IS</th>\n",
       "      <td>0.038041</td>\n",
       "      <td>0.014570</td>\n",
       "    </tr>\n",
       "    <tr>\n",
       "      <th>Duration of IS containing AH</th>\n",
       "      <td>0.098537</td>\n",
       "      <td>0.100704</td>\n",
       "    </tr>\n",
       "  </tbody>\n",
       "</table>\n",
       "</div>"
      ],
      "text/plain": [
       "                              p-value (abs. value)  p-value (rate of change)\n",
       "Number of AH in IS                        0.038041                  0.014570\n",
       "Duration of IS containing AH              0.098537                  0.100704"
      ]
     },
     "execution_count": 39,
     "metadata": {},
     "output_type": "execute_result"
    }
   ],
   "source": [
    "log = pd.read_csv('Examples/Palatable_Log_Example.csv', index_col=0)\n",
    "\n",
    "num_in = []\n",
    "num_out = []\n",
    "lowspeed_len = []\n",
    "bhvs_len = []\n",
    "\n",
    "bhv = 'Approach hands to food (from tray)'\n",
    "\n",
    "for (case, filepath) in zip(cases, filenames):\n",
    "    df = pd.read_csv(filepath, index_col=0, header=[1, 2], skiprows=0)\n",
    "    manual = (log.loc[(log[['Cycle', 'Subject', 'CNO / Vehicle', 'Behavior']] == ('3cycle', *case, bhv)).all(axis=1), 'Time_Relative_sf'].values * 24.0).astype(int)\n",
    "\n",
    "    in_count, out_count = get_foc_behaviors_count(df, manual, crit, filter, latency, dur)\n",
    "    num_in.append(in_count)\n",
    "    num_out.append(out_count)\n",
    "\n",
    "    lowspeed_sessions = get_lowspeed(df, crit, filter, latency, dur)\n",
    "    lowspeed_len.append((lowspeed_sessions[:, 1] - lowspeed_sessions[:, 0]).sum())\n",
    "\n",
    "    lowspeed_bhv_sessions = get_foc_sessions(df, manual, crit, filter, latency, dur)\n",
    "    bhvs_len.append((lowspeed_bhv_sessions[:, 1] - lowspeed_bhv_sessions[:, 0]).sum())\n",
    "\n",
    "num_in = np.array(num_in)\n",
    "num_out = np.array(num_out)\n",
    "lowspeed_len = np.array(lowspeed_len)\n",
    "bhvs_len = np.array(bhvs_len)\n",
    "\n",
    "ps = []\n",
    "\n",
    "data = num_in.reshape(-1, 2)\n",
    "\n",
    "p1 = scipy.stats.ttest_rel(data[:, 0], data[:, 1]).pvalue\n",
    "p2 = scipy.stats.ttest_1samp(data[:, 0] / data[:, 1]-1, popmean=0).pvalue\n",
    "\n",
    "ps.append(p1)\n",
    "ps.append(p2)\n",
    "\n",
    "\n",
    "data = bhvs_len.reshape(-1, 2)\n",
    "\n",
    "p1 = scipy.stats.ttest_rel(data[:, 0], data[:, 1]).pvalue\n",
    "p2 = scipy.stats.ttest_1samp(data[:, 0] / data[:, 1]-1, popmean=0).pvalue\n",
    "\n",
    "ps.append(p1)\n",
    "ps.append(p2)\n",
    "\n",
    "ps = np.array(ps)\n",
    "\n",
    "pd.DataFrame(index=['Number of AH in IS', 'Duration of IS containing AH'],\n",
    "            columns=['p-value (abs. value)', 'p-value (rate of change)'],\n",
    "            data=ps.reshape(2, 2)\n",
    ")"
   ]
  },
  {
   "cell_type": "markdown",
   "id": "8ebbcc27",
   "metadata": {},
   "source": [
    "- Proportion of IS containing AH to total IS"
   ]
  },
  {
   "cell_type": "code",
   "execution_count": 40,
   "id": "734f8ccc",
   "metadata": {},
   "outputs": [
    {
     "data": {
      "text/html": [
       "<div>\n",
       "<style scoped>\n",
       "    .dataframe tbody tr th:only-of-type {\n",
       "        vertical-align: middle;\n",
       "    }\n",
       "\n",
       "    .dataframe tbody tr th {\n",
       "        vertical-align: top;\n",
       "    }\n",
       "\n",
       "    .dataframe thead th {\n",
       "        text-align: right;\n",
       "    }\n",
       "</style>\n",
       "<table border=\"1\" class=\"dataframe\">\n",
       "  <thead>\n",
       "    <tr style=\"text-align: right;\">\n",
       "      <th></th>\n",
       "      <th>p-value</th>\n",
       "    </tr>\n",
       "  </thead>\n",
       "  <tbody>\n",
       "    <tr>\n",
       "      <th>Proportion of IS containing AH to total IS</th>\n",
       "      <td>0.01673</td>\n",
       "    </tr>\n",
       "  </tbody>\n",
       "</table>\n",
       "</div>"
      ],
      "text/plain": [
       "                                            p-value\n",
       "Proportion of IS containing AH to total IS  0.01673"
      ]
     },
     "execution_count": 40,
     "metadata": {},
     "output_type": "execute_result"
    }
   ],
   "source": [
    "data = (bhvs_len / lowspeed_len).reshape(-1, 2)\n",
    "\n",
    "p1 = scipy.stats.ttest_rel(data[:, 0], data[:, 1]).pvalue\n",
    "\n",
    "pd.DataFrame(index=['Proportion of IS containing AH to total IS'], data=[[p1]], columns=['p-value'])"
   ]
  },
  {
   "cell_type": "markdown",
   "id": "7d4f7ef5",
   "metadata": {},
   "source": [
    "# Abnormal Behaviors and Vocalization"
   ]
  },
  {
   "cell_type": "markdown",
   "id": "217b5533",
   "metadata": {},
   "source": [
    "## 4. Abnormal Behaviors"
   ]
  },
  {
   "cell_type": "markdown",
   "id": "a3876604",
   "metadata": {},
   "source": [
    "We measured the number of abnormal behaviors in each experimental condition. One can use the sample in `Examples/Abnormals.csv` to reproduce the same results as below.\n",
    "Here, Condition 1, 2, 3, and 4 corresponds to the experimental conditions with toy, palatable food, water, and unpalatable food, respectively."
   ]
  },
  {
   "cell_type": "code",
   "execution_count": 27,
   "id": "c1fcf04e",
   "metadata": {},
   "outputs": [
    {
     "data": {
      "text/html": [
       "<div>\n",
       "<style scoped>\n",
       "    .dataframe tbody tr th:only-of-type {\n",
       "        vertical-align: middle;\n",
       "    }\n",
       "\n",
       "    .dataframe tbody tr th {\n",
       "        vertical-align: top;\n",
       "    }\n",
       "\n",
       "    .dataframe thead tr th {\n",
       "        text-align: left;\n",
       "    }\n",
       "\n",
       "    .dataframe thead tr:last-of-type th {\n",
       "        text-align: right;\n",
       "    }\n",
       "</style>\n",
       "<table border=\"1\" class=\"dataframe\">\n",
       "  <thead>\n",
       "    <tr>\n",
       "      <th></th>\n",
       "      <th colspan=\"2\" halign=\"left\">A</th>\n",
       "      <th colspan=\"2\" halign=\"left\">B</th>\n",
       "    </tr>\n",
       "    <tr>\n",
       "      <th></th>\n",
       "      <th>CNO</th>\n",
       "      <th>Vehicle</th>\n",
       "      <th>CNO</th>\n",
       "      <th>Vehicle</th>\n",
       "    </tr>\n",
       "    <tr>\n",
       "      <th>Condition</th>\n",
       "      <th></th>\n",
       "      <th></th>\n",
       "      <th></th>\n",
       "      <th></th>\n",
       "    </tr>\n",
       "  </thead>\n",
       "  <tbody>\n",
       "    <tr>\n",
       "      <th>1</th>\n",
       "      <td>1</td>\n",
       "      <td>50</td>\n",
       "      <td>7</td>\n",
       "      <td>85</td>\n",
       "    </tr>\n",
       "    <tr>\n",
       "      <th>2</th>\n",
       "      <td>0</td>\n",
       "      <td>62</td>\n",
       "      <td>0</td>\n",
       "      <td>59</td>\n",
       "    </tr>\n",
       "    <tr>\n",
       "      <th>3</th>\n",
       "      <td>1</td>\n",
       "      <td>40</td>\n",
       "      <td>33</td>\n",
       "      <td>59</td>\n",
       "    </tr>\n",
       "    <tr>\n",
       "      <th>4</th>\n",
       "      <td>11</td>\n",
       "      <td>12</td>\n",
       "      <td>5</td>\n",
       "      <td>60</td>\n",
       "    </tr>\n",
       "  </tbody>\n",
       "</table>\n",
       "</div>"
      ],
      "text/plain": [
       "            A           B        \n",
       "          CNO Vehicle CNO Vehicle\n",
       "Condition                        \n",
       "1           1      50   7      85\n",
       "2           0      62   0      59\n",
       "3           1      40  33      59\n",
       "4          11      12   5      60"
      ]
     },
     "execution_count": 27,
     "metadata": {},
     "output_type": "execute_result"
    }
   ],
   "source": [
    "df = pd.read_csv('Examples/Abnormals.csv', header=[0, 1], index_col=0)\n",
    "df"
   ]
  },
  {
   "cell_type": "markdown",
   "id": "af2ee6a6",
   "metadata": {},
   "source": [
    "For each subject, we conducted two-way ANOVA to determine whether the effect of the number of total abnormal behaviors caused by of CNO injection and the experimental condition is significant, respectively. The values at (`C(Cond)`, `PR(>F)`) and (`C(State)`, `PR(>F)`) are the p-values relevant to the significance of effect of the experimental condition and CNO injection, respectively."
   ]
  },
  {
   "cell_type": "code",
   "execution_count": 50,
   "id": "c3247c20",
   "metadata": {},
   "outputs": [
    {
     "name": "stdout",
     "output_type": "stream",
     "text": [
      "Monkey A\n",
      "\n",
      "            sum_sq   df         F    PR(>F)\n",
      "C(Cond)    411.375  3.0  0.398089  0.765361\n",
      "C(State)  2850.125  1.0  8.274223  0.063711\n",
      "Residual  1033.375  3.0       NaN       NaN\n",
      "\n",
      "Monkey B\n",
      "\n",
      "          sum_sq   df          F    PR(>F)\n",
      "C(Cond)    459.0  3.0   0.662816  0.628203\n",
      "C(State)  5940.5  1.0  25.735018  0.014792\n",
      "Residual   692.5  3.0        NaN       NaN\n"
     ]
    }
   ],
   "source": [
    "# Monkey A\n",
    "print('Monkey A\\n')\n",
    "results = df['A']\n",
    "\n",
    "results = pd.DataFrame(\n",
    "    data=results.values.reshape(-1), columns=['Number'], index=pd.MultiIndex.from_tuples( [(i, j) for i in range(1, 5) for j in ['CNO', 'Vehicle']])\n",
    ")\n",
    "\n",
    "results = results.reset_index()\n",
    "\n",
    "results = results.rename(columns = {'level_0': 'Cond', 'level_1': 'State'})\n",
    "\n",
    "model = ols('Number ~ C(Cond) + C(State)', data=results).fit()\n",
    "table = sm.stats.anova_lm(model, typ=2)\n",
    "\n",
    "print(table)\n",
    "\n",
    "# Monkey B\n",
    "print('\\nMonkey B\\n')\n",
    "\n",
    "results = df['B']\n",
    "\n",
    "results = pd.DataFrame(\n",
    "    data=results.values.reshape(-1), columns=['Number'], index=pd.MultiIndex.from_tuples( [(i, j) for i in range(1, 5) for j in ['CNO', 'Vehicle']])\n",
    ")\n",
    "\n",
    "results = results.reset_index()\n",
    "\n",
    "results = results.rename(columns = {'level_0': 'Cond', 'level_1': 'State'})\n",
    "\n",
    "model = ols('Number ~ C(Cond) + C(State)', data=results).fit()\n",
    "table = sm.stats.anova_lm(model, typ=2)\n",
    "\n",
    "print(table)"
   ]
  },
  {
   "cell_type": "markdown",
   "id": "ec667563",
   "metadata": {},
   "source": [
    "Next we normalized the values by dividing each value of a subject by the maximum numbers of abnormal behaviors attained by the very subject."
   ]
  },
  {
   "cell_type": "code",
   "execution_count": 58,
   "id": "46b1164b",
   "metadata": {},
   "outputs": [
    {
     "data": {
      "text/html": [
       "<div>\n",
       "<style scoped>\n",
       "    .dataframe tbody tr th:only-of-type {\n",
       "        vertical-align: middle;\n",
       "    }\n",
       "\n",
       "    .dataframe tbody tr th {\n",
       "        vertical-align: top;\n",
       "    }\n",
       "\n",
       "    .dataframe thead tr th {\n",
       "        text-align: left;\n",
       "    }\n",
       "\n",
       "    .dataframe thead tr:last-of-type th {\n",
       "        text-align: right;\n",
       "    }\n",
       "</style>\n",
       "<table border=\"1\" class=\"dataframe\">\n",
       "  <thead>\n",
       "    <tr>\n",
       "      <th></th>\n",
       "      <th colspan=\"2\" halign=\"left\">A</th>\n",
       "      <th colspan=\"2\" halign=\"left\">B</th>\n",
       "    </tr>\n",
       "    <tr>\n",
       "      <th></th>\n",
       "      <th>CNO</th>\n",
       "      <th>Vehicle</th>\n",
       "      <th>CNO</th>\n",
       "      <th>Vehicle</th>\n",
       "    </tr>\n",
       "    <tr>\n",
       "      <th>Condition</th>\n",
       "      <th></th>\n",
       "      <th></th>\n",
       "      <th></th>\n",
       "      <th></th>\n",
       "    </tr>\n",
       "  </thead>\n",
       "  <tbody>\n",
       "    <tr>\n",
       "      <th>1</th>\n",
       "      <td>0.016129</td>\n",
       "      <td>0.806452</td>\n",
       "      <td>0.082353</td>\n",
       "      <td>1.000000</td>\n",
       "    </tr>\n",
       "    <tr>\n",
       "      <th>2</th>\n",
       "      <td>0.000000</td>\n",
       "      <td>1.000000</td>\n",
       "      <td>0.000000</td>\n",
       "      <td>0.694118</td>\n",
       "    </tr>\n",
       "    <tr>\n",
       "      <th>3</th>\n",
       "      <td>0.016129</td>\n",
       "      <td>0.645161</td>\n",
       "      <td>0.388235</td>\n",
       "      <td>0.694118</td>\n",
       "    </tr>\n",
       "    <tr>\n",
       "      <th>4</th>\n",
       "      <td>0.177419</td>\n",
       "      <td>0.193548</td>\n",
       "      <td>0.058824</td>\n",
       "      <td>0.705882</td>\n",
       "    </tr>\n",
       "  </tbody>\n",
       "</table>\n",
       "</div>"
      ],
      "text/plain": [
       "                  A                   B          \n",
       "                CNO   Vehicle       CNO   Vehicle\n",
       "Condition                                        \n",
       "1          0.016129  0.806452  0.082353  1.000000\n",
       "2          0.000000  1.000000  0.000000  0.694118\n",
       "3          0.016129  0.645161  0.388235  0.694118\n",
       "4          0.177419  0.193548  0.058824  0.705882"
      ]
     },
     "execution_count": 58,
     "metadata": {},
     "output_type": "execute_result"
    }
   ],
   "source": [
    "newdf = df.copy()\n",
    "newdf['A'] = df['A'] / df['A'].values.max()\n",
    "newdf['B'] = df['B'] / df['B'].values.max()\n",
    "\n",
    "newdf"
   ]
  },
  {
   "cell_type": "markdown",
   "id": "b1f2d5f5",
   "metadata": {},
   "source": [
    "Then we conducted two-way repeated measures ANOVA to determine whether the effect of the number of total abnormal behaviors caused by of CNO injection, the experimental condition, and their interaction is significant, respectively. The values at (`Cond`, `PR > F`), (`State`, `PR > F`), and (`Cond:State`, `PR > F`) are the p-values relevant to the significance of effect of the experimental condition, CNO injection, and their interaction, respectively."
   ]
  },
  {
   "cell_type": "code",
   "execution_count": 59,
   "id": "f8f09df8",
   "metadata": {},
   "outputs": [
    {
     "name": "stdout",
     "output_type": "stream",
     "text": [
      "                  Anova\n",
      "=========================================\n",
      "            F Value  Num DF Den DF Pr > F\n",
      "-----------------------------------------\n",
      "Cond          0.9736 3.0000 3.0000 0.5085\n",
      "State      1497.2695 1.0000 1.0000 0.0164\n",
      "Cond:State    1.3988 3.0000 3.0000 0.3947\n",
      "=========================================\n",
      "\n"
     ]
    }
   ],
   "source": [
    "results = pd.DataFrame(\n",
    "    data=newdf.values.reshape(-1), columns=['Normalized Value'], index=pd.MultiIndex.from_tuples( [(i, j, k) for i in range(1, 5) for j in ['A', 'B'] for k in ['CNO', 'Vehicle']])\n",
    ")\n",
    "\n",
    "results = results.reset_index()\n",
    "\n",
    "results = results.rename(columns = {'level_0': 'Cond', 'level_1': 'Subject', 'level_2': 'State'})\n",
    "\n",
    "aovrm2way = AnovaRM(results, 'Normalized Value', 'Subject', within=['Cond', 'State'])\n",
    "\n",
    "print(aovrm2way.fit())"
   ]
  }
 ],
 "metadata": {
  "kernelspec": {
   "display_name": "Python 3.6.5 ('base')",
   "language": "python",
   "name": "python3"
  },
  "language_info": {
   "codemirror_mode": {
    "name": "ipython",
    "version": 3
   },
   "file_extension": ".py",
   "mimetype": "text/x-python",
   "name": "python",
   "nbconvert_exporter": "python",
   "pygments_lexer": "ipython3",
   "version": "3.6.5"
  },
  "vscode": {
   "interpreter": {
    "hash": "ad2bdc8ecc057115af97d19610ffacc2b4e99fae6737bb82f5d7fb13d2f2c186"
   }
  }
 },
 "nbformat": 4,
 "nbformat_minor": 5
}
