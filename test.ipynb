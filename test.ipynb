{
 "cells": [
  {
   "cell_type": "code",
   "execution_count": 1,
   "id": "64029fd3",
   "metadata": {},
   "outputs": [],
   "source": [
    "import numpy as np\n",
    "import pandas as pd\n",
    "import scipy\n",
    "import scipy.stats\n",
    "\n",
    "from helper import *"
   ]
  },
  {
   "cell_type": "markdown",
   "id": "e3b7c6ae",
   "metadata": {},
   "source": [
    "# Manual Analysis"
   ]
  },
  {
   "cell_type": "markdown",
   "id": "7c0dda4d",
   "metadata": {},
   "source": [
    "We measured three behaviors (\"Approach hands to food (n),\" \"Bring the food to the mouth (n),\" and \"Drop the food (n)\") and \"Food intake (g)\" in the manual analysis. One can use the sample in `Examples/Palatable_Manual.csv` to reproduce the same results as below. First, read the csv file as follows:"
   ]
  },
  {
   "cell_type": "code",
   "execution_count": 2,
   "id": "b9c3730d",
   "metadata": {},
   "outputs": [
    {
     "data": {
      "text/html": [
       "<div>\n",
       "<style scoped>\n",
       "    .dataframe tbody tr th:only-of-type {\n",
       "        vertical-align: middle;\n",
       "    }\n",
       "\n",
       "    .dataframe tbody tr th {\n",
       "        vertical-align: top;\n",
       "    }\n",
       "\n",
       "    .dataframe thead tr th {\n",
       "        text-align: left;\n",
       "    }\n",
       "</style>\n",
       "<table border=\"1\" class=\"dataframe\">\n",
       "  <thead>\n",
       "    <tr>\n",
       "      <th></th>\n",
       "      <th colspan=\"2\" halign=\"left\">A</th>\n",
       "      <th colspan=\"2\" halign=\"left\">B</th>\n",
       "      <th colspan=\"2\" halign=\"left\">C</th>\n",
       "    </tr>\n",
       "    <tr>\n",
       "      <th></th>\n",
       "      <th>CNO</th>\n",
       "      <th>Vehicle</th>\n",
       "      <th>CNO</th>\n",
       "      <th>Vehicle</th>\n",
       "      <th>CNO</th>\n",
       "      <th>Vehicle</th>\n",
       "    </tr>\n",
       "  </thead>\n",
       "  <tbody>\n",
       "    <tr>\n",
       "      <th>Approach hands to food (n)</th>\n",
       "      <td>30</td>\n",
       "      <td>21</td>\n",
       "      <td>37</td>\n",
       "      <td>27</td>\n",
       "      <td>80</td>\n",
       "      <td>33</td>\n",
       "    </tr>\n",
       "    <tr>\n",
       "      <th>Bring the food to the mouth (n)</th>\n",
       "      <td>588</td>\n",
       "      <td>340</td>\n",
       "      <td>405</td>\n",
       "      <td>236</td>\n",
       "      <td>303</td>\n",
       "      <td>217</td>\n",
       "    </tr>\n",
       "    <tr>\n",
       "      <th>Drop the food (n)</th>\n",
       "      <td>3</td>\n",
       "      <td>53</td>\n",
       "      <td>20</td>\n",
       "      <td>33</td>\n",
       "      <td>15</td>\n",
       "      <td>53</td>\n",
       "    </tr>\n",
       "    <tr>\n",
       "      <th>Food intake (g)</th>\n",
       "      <td>214</td>\n",
       "      <td>76</td>\n",
       "      <td>162</td>\n",
       "      <td>140</td>\n",
       "      <td>622</td>\n",
       "      <td>266</td>\n",
       "    </tr>\n",
       "  </tbody>\n",
       "</table>\n",
       "</div>"
      ],
      "text/plain": [
       "                                   A            B            C        \n",
       "                                 CNO Vehicle  CNO Vehicle  CNO Vehicle\n",
       "Approach hands to food (n)        30      21   37      27   80      33\n",
       "Bring the food to the mouth (n)  588     340  405     236  303     217\n",
       "Drop the food (n)                  3      53   20      33   15      53\n",
       "Food intake (g)                  214      76  162     140  622     266"
      ]
     },
     "execution_count": 2,
     "metadata": {},
     "output_type": "execute_result"
    }
   ],
   "source": [
    "df = pd.read_csv('Examples/Palatable_Manual.csv', index_col=0, header=[0, 1])\n",
    "df"
   ]
  },
  {
   "cell_type": "markdown",
   "id": "09539a32",
   "metadata": {},
   "source": [
    "Comparing CNO-injected and control subjects for each index by the paired t-test, we have:"
   ]
  },
  {
   "cell_type": "code",
   "execution_count": 3,
   "id": "8a3a82b0",
   "metadata": {},
   "outputs": [
    {
     "name": "stdout",
     "output_type": "stream",
     "text": [
      "                              Index   p-value\n",
      "         Approach hands to food (n)     0.221\n",
      "    Bring the food to the mouth (n)     0.070\n",
      "                  Drop the food (n)     0.091\n",
      "                    Food intake (g)     0.221\n"
     ]
    }
   ],
   "source": [
    "print('{:>35}{:>10}'.format('Index', 'p-value'))\n",
    "\n",
    "for idx in df.index:\n",
    "    data = df.loc[idx].values.reshape(3, 2)\n",
    "    p = scipy.stats.ttest_rel(data[:, 0], data[:, 1]).pvalue\n",
    "    print('{:>35}{:>10.3f}'.format(idx, p))"
   ]
  },
  {
   "cell_type": "markdown",
   "id": "46a2c13c",
   "metadata": {},
   "source": [
    "We also divided the values of CNO-injected subjects by the corresponding values of control subjects, and compared the ratios with 1, so that we can observe the rate of change caused by CNO injection."
   ]
  },
  {
   "cell_type": "code",
   "execution_count": 4,
   "id": "5fac0529",
   "metadata": {},
   "outputs": [
    {
     "name": "stdout",
     "output_type": "stream",
     "text": [
      "                              Index   p-value\n",
      "         Approach hands to food (n)     0.163\n",
      "    Bring the food to the mouth (n)     0.030\n",
      "                  Drop the food (n)     0.050\n",
      "                    Food intake (g)     0.155\n"
     ]
    }
   ],
   "source": [
    "print('{:>35}{:>10}'.format('Index', 'p-value'))\n",
    "\n",
    "for idx in df.index:\n",
    "    data = df.loc[idx].values.reshape(3, 2)\n",
    "    p = scipy.stats.ttest_1samp(data[:, 0] / data[:, 1], popmean=1).pvalue\n",
    "    print('{:>35}{:>10.3f}'.format(idx, p))"
   ]
  },
  {
   "cell_type": "markdown",
   "id": "07d98105",
   "metadata": {},
   "source": [
    "# Deep Learning-based analysis"
   ]
  },
  {
   "cell_type": "markdown",
   "id": "034c63a4",
   "metadata": {},
   "source": [
    "We measured three behaviors (\"Tray Approach (n),\" \"Bout (n),\" and \"Drop the food (n)\") and \"Duration in Food Zone (g)\" in the deep learning-based analysis. One can use the samples in `Examples/Palatable_DLC_MonkeyX_Y.csv (X = A / B / C, Y = CNO / Vehicle)` to reproduce the same results as below (those are raw outputs from DeepLabCut). We computed some parameters for each video, such as `Examples/Palatable_DLC_params.csv`.\n",
    "\n",
    "* `fz x` is the x-coordinate of the food zone.\n",
    "* `trayx` and `trayy` are the x- and y-coordinate of the tray, respectively.\n",
    "* `tray-hand dist` is the threshold distance between the tray and hand, which is a criterion for \"Tray Approach.\"\n",
    "* `tray-mouth dist` is the threshold distance between the tray and mouth, which is a criterion for \"Bout.\""
   ]
  },
  {
   "cell_type": "code",
   "execution_count": 5,
   "id": "ccca5425",
   "metadata": {},
   "outputs": [
    {
     "data": {
      "text/html": [
       "<div>\n",
       "<style scoped>\n",
       "    .dataframe tbody tr th:only-of-type {\n",
       "        vertical-align: middle;\n",
       "    }\n",
       "\n",
       "    .dataframe tbody tr th {\n",
       "        vertical-align: top;\n",
       "    }\n",
       "\n",
       "    .dataframe thead th {\n",
       "        text-align: right;\n",
       "    }\n",
       "</style>\n",
       "<table border=\"1\" class=\"dataframe\">\n",
       "  <thead>\n",
       "    <tr style=\"text-align: right;\">\n",
       "      <th></th>\n",
       "      <th></th>\n",
       "      <th>fz x</th>\n",
       "      <th>trayx</th>\n",
       "      <th>trayy</th>\n",
       "      <th>tray-hand dist</th>\n",
       "      <th>tray-mouth dist</th>\n",
       "    </tr>\n",
       "  </thead>\n",
       "  <tbody>\n",
       "    <tr>\n",
       "      <th rowspan=\"2\" valign=\"top\">A</th>\n",
       "      <th>CNO</th>\n",
       "      <td>847</td>\n",
       "      <td>1137</td>\n",
       "      <td>459</td>\n",
       "      <td>97.693398</td>\n",
       "      <td>22.203603</td>\n",
       "    </tr>\n",
       "    <tr>\n",
       "      <th>Vehicle</th>\n",
       "      <td>843</td>\n",
       "      <td>1142</td>\n",
       "      <td>455</td>\n",
       "      <td>106.404887</td>\n",
       "      <td>20.248457</td>\n",
       "    </tr>\n",
       "    <tr>\n",
       "      <th rowspan=\"2\" valign=\"top\">B</th>\n",
       "      <th>CNO</th>\n",
       "      <td>809</td>\n",
       "      <td>1133</td>\n",
       "      <td>450</td>\n",
       "      <td>120.904921</td>\n",
       "      <td>21.189620</td>\n",
       "    </tr>\n",
       "    <tr>\n",
       "      <th>Vehicle</th>\n",
       "      <td>866</td>\n",
       "      <td>1147</td>\n",
       "      <td>454</td>\n",
       "      <td>94.540996</td>\n",
       "      <td>21.587033</td>\n",
       "    </tr>\n",
       "    <tr>\n",
       "      <th rowspan=\"2\" valign=\"top\">C</th>\n",
       "      <th>CNO</th>\n",
       "      <td>906</td>\n",
       "      <td>1168</td>\n",
       "      <td>457</td>\n",
       "      <td>94.366308</td>\n",
       "      <td>22.472205</td>\n",
       "    </tr>\n",
       "    <tr>\n",
       "      <th>Vehicle</th>\n",
       "      <td>845</td>\n",
       "      <td>1139</td>\n",
       "      <td>455</td>\n",
       "      <td>89.157165</td>\n",
       "      <td>17.492856</td>\n",
       "    </tr>\n",
       "  </tbody>\n",
       "</table>\n",
       "</div>"
      ],
      "text/plain": [
       "           fz x  trayx  trayy  tray-hand dist  tray-mouth dist\n",
       "A CNO       847   1137    459       97.693398        22.203603\n",
       "  Vehicle   843   1142    455      106.404887        20.248457\n",
       "B CNO       809   1133    450      120.904921        21.189620\n",
       "  Vehicle   866   1147    454       94.540996        21.587033\n",
       "C CNO       906   1168    457       94.366308        22.472205\n",
       "  Vehicle   845   1139    455       89.157165        17.492856"
      ]
     },
     "execution_count": 5,
     "metadata": {},
     "output_type": "execute_result"
    }
   ],
   "source": [
    "params_df = pd.read_csv('Examples/Palatable_DLC_params.csv', index_col=[0, 1], header=0)\n",
    "params_df"
   ]
  },
  {
   "cell_type": "markdown",
   "id": "4fd5439d",
   "metadata": {},
   "source": [
    "Based on those parameters, we computed each index for each video. Refer to `helper.py` for the detailed description of each function."
   ]
  },
  {
   "cell_type": "code",
   "execution_count": 6,
   "id": "bf612750",
   "metadata": {},
   "outputs": [
    {
     "data": {
      "text/plain": [
       "array([[[ 55.        ,  31.        , 866.83333333],\n",
       "        [ 50.        ,  20.        , 217.58333333]],\n",
       "\n",
       "       [[121.        ,  74.        , 828.54166667],\n",
       "        [ 80.        ,  44.        , 204.        ]],\n",
       "\n",
       "       [[268.        , 112.        , 520.45833333],\n",
       "        [ 66.        ,  18.        , 309.375     ]]])"
      ]
     },
     "execution_count": 6,
     "metadata": {},
     "output_type": "execute_result"
    }
   ],
   "source": [
    "cases = [(i, j) for i in ['A', 'B', 'C'] for j in ['CNO', 'Vehicle']]\n",
    "filenames = ['Examples/Palatable_DLC_Monkey{}_{}.csv'.format(i, j) for (i, j) in cases]\n",
    "\n",
    "values = np.array([])\n",
    "\n",
    "for case, filepath in zip(cases, filenames):\n",
    "    # Approach\n",
    "    params = tuple(params_df.loc[case, ['trayx', 'trayy', 'tray-hand dist']])\n",
    "    coords, _, _ = return_approach(filepath, params, ll_crit=0.9, absolute=True, interval=0.2, FPS=24.0)\n",
    "    appr = coords['Approach'].sum()\n",
    "\n",
    "    # Bout\n",
    "    params = tuple(params_df.loc[case, ['trayx', 'trayy', 'tray-mouth dist', 'tray-hand dist']])\n",
    "    coords, _, _ = return_bout1(filepath, params, latency1=3.0, latency2=1.0, ll_crit=0.9, interval=0.2, FPS=24.0)\n",
    "    bout = coords['Bout'].sum()\n",
    "\n",
    "    # In Food Zone\n",
    "    fz_x = params_df.loc[case, 'fz x']\n",
    "    coords, _, _ = return_infz(filepath, fz_x, ll_crit=0.9, absolute=True)\n",
    "    infz = coords['In'].sum() / 24\n",
    "\n",
    "\n",
    "    values = np.concatenate((values, np.array([appr, bout, infz])))\n",
    "\n",
    "values = values.reshape(3, 2, 3)\n",
    "\n",
    "values"
   ]
  },
  {
   "cell_type": "markdown",
   "id": "6ee4b218",
   "metadata": {},
   "source": [
    "As in the manual analysis, we conducted two ways of comparison: first, we compared CNO-injected and control subjects for each index by the paired t-test..."
   ]
  },
  {
   "cell_type": "code",
   "execution_count": 7,
   "id": "51ff44f1",
   "metadata": {},
   "outputs": [
    {
     "name": "stdout",
     "output_type": "stream",
     "text": [
      "                         Index   p-value\n",
      "             Tray Approach (n)     0.306\n",
      "                      Bout (n)     0.215\n",
      "     Duration in Food Zone (s)     0.073\n"
     ]
    }
   ],
   "source": [
    "indices = [\"Tray Approach (n)\", \"Bout (n)\", \"Duration in Food Zone (s)\"]\n",
    "\n",
    "print('{:>30}{:>10}'.format('Index', 'p-value'))\n",
    "\n",
    "for i, idx in enumerate(indices):\n",
    "    data = values[:, :, i]\n",
    "    p = scipy.stats.ttest_rel(data[:, 0], data[:, 1]).pvalue\n",
    "    print('{:>30}{:>10.3f}'.format(idx, p))"
   ]
  },
  {
   "cell_type": "markdown",
   "id": "95a94e2d",
   "metadata": {},
   "source": [
    "and second, we observed the rate of change caused by CNO injection in each subject, for each index."
   ]
  },
  {
   "cell_type": "code",
   "execution_count": 8,
   "id": "2a621e3a",
   "metadata": {},
   "outputs": [
    {
     "name": "stdout",
     "output_type": "stream",
     "text": [
      "                         Index   p-value\n",
      "             Tray Approach (n)     0.317\n",
      "                      Bout (n)     0.296\n",
      "     Duration in Food Zone (s)     0.103\n"
     ]
    }
   ],
   "source": [
    "print('{:>30}{:>10}'.format('Index', 'p-value'))\n",
    "\n",
    "for i, idx in enumerate(indices):\n",
    "    data = values[:, :, i]\n",
    "    p = scipy.stats.ttest_1samp(data[:, 0] / data[:, 1], popmean=1).pvalue\n",
    "    print('{:>30}{:>10.3f}'.format(idx, p))"
   ]
  }
 ],
 "metadata": {
  "kernelspec": {
   "display_name": "Python 3.6.5 ('base')",
   "language": "python",
   "name": "python3"
  },
  "language_info": {
   "codemirror_mode": {
    "name": "ipython",
    "version": 3
   },
   "file_extension": ".py",
   "mimetype": "text/x-python",
   "name": "python",
   "nbconvert_exporter": "python",
   "pygments_lexer": "ipython3",
   "version": "3.6.5"
  },
  "vscode": {
   "interpreter": {
    "hash": "ad2bdc8ecc057115af97d19610ffacc2b4e99fae6737bb82f5d7fb13d2f2c186"
   }
  }
 },
 "nbformat": 4,
 "nbformat_minor": 5
}
